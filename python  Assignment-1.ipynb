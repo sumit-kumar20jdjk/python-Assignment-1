{
 "cells": [
  {
   "cell_type": "code",
   "execution_count": 1,
   "id": "3ff8daeb-ce02-4ad4-b0ec-5f306dca9f5e",
   "metadata": {},
   "outputs": [],
   "source": [
    "#def keyword is used to create function #Q1Ans"
   ]
  },
  {
   "cell_type": "code",
   "execution_count": 2,
   "id": "bce1735b-abfd-4aa1-997c-13853154df87",
   "metadata": {},
   "outputs": [],
   "source": [
    "def list_odd_no():\n",
    "    for i in range(1,25):\n",
    "        if i%2!=0:\n",
    "            print(i) "
   ]
  },
  {
   "cell_type": "code",
   "execution_count": 3,
   "id": "d9a9710a-d2bc-4964-8a7f-13e13dc626c8",
   "metadata": {},
   "outputs": [
    {
     "name": "stdout",
     "output_type": "stream",
     "text": [
      "1\n",
      "3\n",
      "5\n",
      "7\n",
      "9\n",
      "11\n",
      "13\n",
      "15\n",
      "17\n",
      "19\n",
      "21\n",
      "23\n"
     ]
    }
   ],
   "source": [
    "list_odd_no()"
   ]
  },
  {
   "cell_type": "code",
   "execution_count": 4,
   "id": "6ffd08aa-4c19-4b66-bcbc-55a1bea2ad8c",
   "metadata": {},
   "outputs": [
    {
     "data": {
      "text/plain": [
       "'#Q2ans  Python has *args which allow us to pass the variable number of non keyword arguments to function.In the\\nfunction we should use an asterisk * before the parameter name to pass variable length arguments.'"
      ]
     },
     "execution_count": 4,
     "metadata": {},
     "output_type": "execute_result"
    }
   ],
   "source": [
    "'''#Q2ans  Python has *args which allow us to pass the variable number of non keyword arguments to function.In the\n",
    "function we should use an asterisk * before the parameter name to pass variable length arguments.'''"
   ]
  },
  {
   "cell_type": "code",
   "execution_count": 5,
   "id": "4495f4c8-e6f3-4e57-bf94-2a1593cc5c1e",
   "metadata": {},
   "outputs": [],
   "source": [
    "def k(*arg):\n",
    "    return arg\n",
    "     "
   ]
  },
  {
   "cell_type": "code",
   "execution_count": 6,
   "id": "5bc55540-3d2b-41c7-965d-1bc916a92630",
   "metadata": {},
   "outputs": [
    {
     "data": {
      "text/plain": [
       "(2, 3, 2, 8)"
      ]
     },
     "execution_count": 6,
     "metadata": {},
     "output_type": "execute_result"
    }
   ],
   "source": [
    "k(2,3,2,8)"
   ]
  },
  {
   "cell_type": "code",
   "execution_count": 7,
   "id": "d39558de-23fb-440e-b116-9673f1eb30f8",
   "metadata": {},
   "outputs": [
    {
     "data": {
      "text/plain": [
       "' (**kwargs)- In the function we use the double asterisk ** before the parameter name to denote this type of \\nargument.The arguments are passed as a dictionary and these arguments make a dictionary inside function with \\nname same as the parameter excluding double asterisk.'"
      ]
     },
     "execution_count": 7,
     "metadata": {},
     "output_type": "execute_result"
    }
   ],
   "source": [
    "''' (**kwargs)- In the function we use the double asterisk ** before the parameter name to denote this type of \n",
    "argument.The arguments are passed as a dictionary and these arguments make a dictionary inside function with \n",
    "name same as the parameter excluding double asterisk.'''"
   ]
  },
  {
   "cell_type": "code",
   "execution_count": 8,
   "id": "95dac5ac-d0e9-4377-8c55-8fcff466e8bb",
   "metadata": {},
   "outputs": [],
   "source": [
    "def e(**sam):\n",
    "    return sam"
   ]
  },
  {
   "cell_type": "code",
   "execution_count": 9,
   "id": "0df145fa-1b41-4a13-888d-bf352da097a9",
   "metadata": {},
   "outputs": [
    {
     "data": {
      "text/plain": [
       "{'sk': [1, 2, 34, 555], 'rk': (2, 3, 4, 2, 4)}"
      ]
     },
     "execution_count": 9,
     "metadata": {},
     "output_type": "execute_result"
    }
   ],
   "source": [
    "e(sk=[1,2,34,555],rk=(2,3,4,2,4,))"
   ]
  },
  {
   "cell_type": "code",
   "execution_count": 12,
   "id": "840d208d-e2f6-4e6a-89a5-7b6e754d4753",
   "metadata": {},
   "outputs": [
    {
     "data": {
      "text/plain": [
       "'Q3-ans In Python, an iterator is an object that allows you to iterate over collections of data, such as lists,\\ntuplesdictionaries, and sets.Python iterators implement the iterator design pattern, which allows you totraverse\\na container and access its elements.In Python, the method used to initialize an iterator object is called iter(),\\nand the method used for iteration is called next()'"
      ]
     },
     "execution_count": 12,
     "metadata": {},
     "output_type": "execute_result"
    }
   ],
   "source": [
    "'''Q3-ans In Python, an iterator is an object that allows you to iterate over collections of data, such as lists,\n",
    "tuplesdictionaries, and sets.Python iterators implement the iterator design pattern, which allows you totraverse\n",
    "a container and access its elements.In Python, the method used to initialize an iterator object is called iter(),\n",
    "and the method used for iteration is called next()'''\n"
   ]
  },
  {
   "cell_type": "code",
   "execution_count": null,
   "id": "925be3a8-f2a3-4ef2-8d6c-3281f4ae1c11",
   "metadata": {},
   "outputs": [],
   "source": [
    " my_list=[2, 4, 6, 8, 10, 12, 14, 16, 18, 20] # given list"
   ]
  },
  {
   "cell_type": "code",
   "execution_count": 27,
   "id": "21078f8c-c842-4518-b2a7-3fc94aa85476",
   "metadata": {},
   "outputs": [
    {
     "name": "stdout",
     "output_type": "stream",
     "text": [
      "2\n",
      "4\n",
      "6\n",
      "8\n",
      "10\n"
     ]
    }
   ],
   "source": [
    "    my_list=[2, 4, 6, 8, 10, 12, 14, 16,18, 20]\n",
    "    x=iter(my_list)\n",
    "    print(next(x))\n",
    "    print(next(x))\n",
    "    print(next(x))\n",
    "    print(next(x))\n",
    "    print(next(x))"
   ]
  },
  {
   "cell_type": "code",
   "execution_count": null,
   "id": "0e5446b6-686a-4a5e-8404-26401f58ed04",
   "metadata": {},
   "outputs": [],
   "source": [
    "'''Q4ans-In Python, a generator is a function that returns an iterator that produces a sequence of values when\n",
    "iterated over.Generators are useful when we want to produce a large sequence of values, but we don't want to\n",
    "store all of them in memory at oncce. yield keyword is used to produce a value from the generator.'''"
   ]
  },
  {
   "cell_type": "code",
   "execution_count": 30,
   "id": "bd61470b-c024-4f51-a5ed-a5fdea9df9f4",
   "metadata": {},
   "outputs": [
    {
     "name": "stdout",
     "output_type": "stream",
     "text": [
      "0\n",
      "1\n",
      "1\n",
      "2\n",
      "3\n"
     ]
    }
   ],
   "source": [
    "def fibonacci_generator(): # example of generator function\n",
    "    a, b = 0, 1\n",
    "    while True:\n",
    "        yield a\n",
    "        a, b = b, a + b\n",
    "\n",
    "fib = fibonacci_generator()\n",
    "\n",
    "for _ in range(5):\n",
    "    print(next(fib))\n"
   ]
  },
  {
   "cell_type": "code",
   "execution_count": 31,
   "id": "a0f68a1d-989e-4599-aac0-bcde898d9503",
   "metadata": {},
   "outputs": [
    {
     "name": "stdout",
     "output_type": "stream",
     "text": [
      "2\n",
      "3\n",
      "5\n",
      "7\n",
      "11\n",
      "13\n",
      "17\n",
      "19\n",
      "23\n",
      "29\n",
      "31\n",
      "37\n",
      "41\n",
      "43\n",
      "47\n",
      "53\n",
      "59\n",
      "61\n",
      "67\n",
      "71\n"
     ]
    }
   ],
   "source": [
    "def prime_generator():    #Q5-ANS\n",
    "    primes = []\n",
    "    num = 2\n",
    "    while True:\n",
    "        if all(num % prime != 0 for prime in primes):\n",
    "            primes.append(num)\n",
    "            yield num\n",
    "        num += 1\n",
    "primes = prime_generator()\n",
    "for _ in range(20):\n",
    "    print(next(primes))\n"
   ]
  },
  {
   "cell_type": "code",
   "execution_count": 32,
   "id": "d77d00b6-e904-47e2-8a24-c02d2e964f7b",
   "metadata": {},
   "outputs": [
    {
     "name": "stdout",
     "output_type": "stream",
     "text": [
      "0\n",
      "1\n",
      "1\n",
      "2\n",
      "3\n",
      "5\n",
      "8\n",
      "13\n",
      "21\n",
      "34\n"
     ]
    }
   ],
   "source": [
    "def fibonacci_generator(): # Q6 ans\n",
    "    a, b = 0, 1\n",
    "    while True:\n",
    "        yield a\n",
    "        a, b = b, a + b\n",
    "\n",
    "fib = fibonacci_generator()\n",
    "\n",
    "for _ in range(10):\n",
    "    print(next(fib))"
   ]
  },
  {
   "cell_type": "code",
   "execution_count": 39,
   "id": "b00d28ea-8794-4d10-8dc1-5d6c4228d1e2",
   "metadata": {},
   "outputs": [
    {
     "name": "stdout",
     "output_type": "stream",
     "text": [
      "['p', 'w', 's', 'k', 'i', 'l', 'l', 's']\n"
     ]
    }
   ],
   "source": [
    "l = 'pwskills'    #Q7 ans\n",
    "output = [char for char in l]\n",
    "print(output)"
   ]
  },
  {
   "cell_type": "code",
   "execution_count": 40,
   "id": "6b77b3be-56b4-4e1b-8ea5-96bc02fe7a13",
   "metadata": {},
   "outputs": [
    {
     "name": "stdin",
     "output_type": "stream",
     "text": [
      "Enter a number:  56\n"
     ]
    },
    {
     "name": "stdout",
     "output_type": "stream",
     "text": [
      "56 is not a palindrome.\n"
     ]
    }
   ],
   "source": [
    "def is_palindrome(number): #Q8 ans\n",
    "    original_number = number\n",
    "    reverse_number = 0\n",
    "\n",
    "    while number > 0:\n",
    "        remainder = number % 10\n",
    "        reverse_number = (reverse_number * 10) + remainder\n",
    "        number = number // 10\n",
    "\n",
    "    if original_number == reverse_number:\n",
    "        return True\n",
    "    else:\n",
    "        return False\n",
    "\n",
    "number = int(input(\"Enter a number: \"))\n",
    "if is_palindrome(number):\n",
    "    print(f\"{number} is a palindrome.\")\n",
    "else:\n",
    "    print(f\"{number} is not a palindrome.\")\n"
   ]
  },
  {
   "cell_type": "code",
   "execution_count": 41,
   "id": "f1c6e218-6dec-43ce-86f2-4913f456205e",
   "metadata": {},
   "outputs": [
    {
     "name": "stdout",
     "output_type": "stream",
     "text": [
      "[1, 3, 5, 7, 9, 11, 13, 15, 17, 19, 21, 23, 25, 27, 29, 31, 33, 35, 37, 39, 41, 43, 45, 47, 49, 51, 53, 55, 57, 59, 61, 63, 65, 67, 69, 71, 73, 75, 77, 79, 81, 83, 85, 87, 89, 91, 93, 95, 97, 99]\n"
     ]
    }
   ],
   "source": [
    "odd_numbers = [num for num in range(1, 101) if num % 2 != 0]  #Q9 ans\n",
    "print(odd_numbers)\n"
   ]
  }
 ],
 "metadata": {
  "kernelspec": {
   "display_name": "Python 3 (ipykernel)",
   "language": "python",
   "name": "python3"
  },
  "language_info": {
   "codemirror_mode": {
    "name": "ipython",
    "version": 3
   },
   "file_extension": ".py",
   "mimetype": "text/x-python",
   "name": "python",
   "nbconvert_exporter": "python",
   "pygments_lexer": "ipython3",
   "version": "3.10.6"
  }
 },
 "nbformat": 4,
 "nbformat_minor": 5
}
